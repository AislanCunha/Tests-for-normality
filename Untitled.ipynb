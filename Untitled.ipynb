{
 "cells": [
  {
   "cell_type": "markdown",
   "id": "c526936c",
   "metadata": {},
   "source": [
    "# Tests for normality"
   ]
  },
  {
   "cell_type": "markdown",
   "id": "8ec75a4a",
   "metadata": {},
   "source": [
    "###  Initial informations"
   ]
  },
  {
   "cell_type": "markdown",
   "id": "f9eb1b07",
   "metadata": {},
   "source": [
    "##https://docs.scipy.org/doc/scipy/reference/generated/"
   ]
  },
  {
   "cell_type": "markdown",
   "id": "537a681d",
   "metadata": {},
   "source": [
    "###   Import the library to analyse"
   ]
  },
  {
   "cell_type": "code",
   "execution_count": 1,
   "id": "03f03878",
   "metadata": {},
   "outputs": [],
   "source": [
    "import scipy.stats as stats\n",
    "import pandas as pd"
   ]
  },
  {
   "cell_type": "markdown",
   "id": "214cea44",
   "metadata": {},
   "source": [
    "# Test Shapiro-wilk (sw)"
   ]
  },
  {
   "cell_type": "code",
   "execution_count": null,
   "id": "b5ad71a3",
   "metadata": {},
   "outputs": [],
   "source": [
    "#It is recommended to use the tests: Shapiro-Wilk, Shapiro-Francia, and the Rian-Joiner for small samples (4<= n <=30). \n",
    "#I will demonstrate the Shapiro-Wilk test (n=30)."
   ]
  },
  {
   "cell_type": "code",
   "execution_count": 14,
   "id": "d0f95b12",
   "metadata": {},
   "outputs": [],
   "source": [
    "sw = pd.read_csv('spreadsheetone.csv')"
   ]
  },
  {
   "cell_type": "code",
   "execution_count": 15,
   "id": "5411fb2c",
   "metadata": {},
   "outputs": [
    {
     "data": {
      "text/html": [
       "<div>\n",
       "<style scoped>\n",
       "    .dataframe tbody tr th:only-of-type {\n",
       "        vertical-align: middle;\n",
       "    }\n",
       "\n",
       "    .dataframe tbody tr th {\n",
       "        vertical-align: top;\n",
       "    }\n",
       "\n",
       "    .dataframe thead th {\n",
       "        text-align: right;\n",
       "    }\n",
       "</style>\n",
       "<table border=\"1\" class=\"dataframe\">\n",
       "  <thead>\n",
       "    <tr style=\"text-align: right;\">\n",
       "      <th></th>\n",
       "      <th>A_30</th>\n",
       "    </tr>\n",
       "  </thead>\n",
       "  <tbody>\n",
       "    <tr>\n",
       "      <th>0</th>\n",
       "      <td>24</td>\n",
       "    </tr>\n",
       "    <tr>\n",
       "      <th>1</th>\n",
       "      <td>74</td>\n",
       "    </tr>\n",
       "    <tr>\n",
       "      <th>2</th>\n",
       "      <td>62</td>\n",
       "    </tr>\n",
       "    <tr>\n",
       "      <th>3</th>\n",
       "      <td>91</td>\n",
       "    </tr>\n",
       "    <tr>\n",
       "      <th>4</th>\n",
       "      <td>76</td>\n",
       "    </tr>\n",
       "  </tbody>\n",
       "</table>\n",
       "</div>"
      ],
      "text/plain": [
       "   A_30\n",
       "0    24\n",
       "1    74\n",
       "2    62\n",
       "3    91\n",
       "4    76"
      ]
     },
     "execution_count": 15,
     "metadata": {},
     "output_type": "execute_result"
    }
   ],
   "source": [
    "sw.head()"
   ]
  },
  {
   "cell_type": "code",
   "execution_count": 8,
   "id": "1456f383",
   "metadata": {},
   "outputs": [],
   "source": [
    "shapiro_stats, shapiro_p_value = stats.shapiro(sw)"
   ]
  },
  {
   "cell_type": "code",
   "execution_count": 10,
   "id": "0954179c",
   "metadata": {},
   "outputs": [
    {
     "name": "stdout",
     "output_type": "stream",
     "text": [
      "The test value Shapiro-Wilk = 0.9262720346450806\n",
      "p value of test Shapiro-Wilk = 0.039127614349126816\n"
     ]
    }
   ],
   "source": [
    "print (\"The test value Shapiro-Wilk = \" + str(shapiro_stats))\n",
    "print (\"p value of test Shapiro-Wilk = \" + str(shapiro_p_value))"
   ]
  },
  {
   "cell_type": "markdown",
   "id": "385ddab3",
   "metadata": {},
   "source": [
    "### Conclusion"
   ]
  },
  {
   "cell_type": "code",
   "execution_count": 15,
   "id": "a8d821d7",
   "metadata": {},
   "outputs": [
    {
     "name": "stdout",
     "output_type": "stream",
     "text": [
      "The test presented with 95% confidence that the data did not behave like a normal distribution.\n"
     ]
    }
   ],
   "source": [
    "if shapiro_p_value > 0.05:\n",
    "    print(\"The test presented with 95% confidence that the data behaved like a normal distribution.\")\n",
    "else:\n",
    "    print(\"The test presented with 95% confidence that the data did not behave like a normal distribution.\")"
   ]
  },
  {
   "cell_type": "markdown",
   "id": "2485f46b",
   "metadata": {},
   "source": [
    "#  Test Anderson-Darling (ad)"
   ]
  },
  {
   "cell_type": "code",
   "execution_count": 16,
   "id": "0719daf6",
   "metadata": {},
   "outputs": [],
   "source": [
    "#It is recommended to use the tests: Anderson-Darling, Jaque-Bera, and lilliefors for small samples (31<= n <=100). \n",
    "#I will demonstrate the Anderson-Darling test (n=30)."
   ]
  },
  {
   "cell_type": "code",
   "execution_count": 2,
   "id": "a8b2a045",
   "metadata": {},
   "outputs": [],
   "source": [
    "ad = pd.read_csv('spreadsheetthree.csv')"
   ]
  },
  {
   "cell_type": "code",
   "execution_count": 3,
   "id": "4ae9ecf6",
   "metadata": {
    "scrolled": true
   },
   "outputs": [
    {
     "data": {
      "text/html": [
       "<div>\n",
       "<style scoped>\n",
       "    .dataframe tbody tr th:only-of-type {\n",
       "        vertical-align: middle;\n",
       "    }\n",
       "\n",
       "    .dataframe tbody tr th {\n",
       "        vertical-align: top;\n",
       "    }\n",
       "\n",
       "    .dataframe thead th {\n",
       "        text-align: right;\n",
       "    }\n",
       "</style>\n",
       "<table border=\"1\" class=\"dataframe\">\n",
       "  <thead>\n",
       "    <tr style=\"text-align: right;\">\n",
       "      <th></th>\n",
       "      <th>C</th>\n",
       "    </tr>\n",
       "  </thead>\n",
       "  <tbody>\n",
       "    <tr>\n",
       "      <th>0</th>\n",
       "      <td>86</td>\n",
       "    </tr>\n",
       "    <tr>\n",
       "      <th>1</th>\n",
       "      <td>67</td>\n",
       "    </tr>\n",
       "    <tr>\n",
       "      <th>2</th>\n",
       "      <td>12</td>\n",
       "    </tr>\n",
       "    <tr>\n",
       "      <th>3</th>\n",
       "      <td>42</td>\n",
       "    </tr>\n",
       "    <tr>\n",
       "      <th>4</th>\n",
       "      <td>66</td>\n",
       "    </tr>\n",
       "  </tbody>\n",
       "</table>\n",
       "</div>"
      ],
      "text/plain": [
       "    C\n",
       "0  86\n",
       "1  67\n",
       "2  12\n",
       "3  42\n",
       "4  66"
      ]
     },
     "execution_count": 3,
     "metadata": {},
     "output_type": "execute_result"
    }
   ],
   "source": [
    "ad.head()"
   ]
  },
  {
   "cell_type": "code",
   "execution_count": null,
   "id": "bf42b87f",
   "metadata": {},
   "outputs": [],
   "source": [
    "# OBS.: It is necessary to convert the data into an array."
   ]
  },
  {
   "cell_type": "code",
   "execution_count": 19,
   "id": "3d083819",
   "metadata": {},
   "outputs": [],
   "source": [
    "adx=ad['C']"
   ]
  },
  {
   "cell_type": "code",
   "execution_count": 37,
   "id": "5b7bbf09",
   "metadata": {},
   "outputs": [
    {
     "name": "stdout",
     "output_type": "stream",
     "text": [
      "0.9264628345369346\n",
      "[0.555 0.632 0.758 0.885 1.052]\n",
      "[15.  10.   5.   2.5  1. ]\n"
     ]
    }
   ],
   "source": [
    "value_test_anderson, critical_value_anderson, p_value_anderson = stats.anderson(adx, 'norm')\n",
    "print(value_test_anderson)\n",
    "print(critical_value_anderson)\n",
    "print(p_value_anderson)"
   ]
  },
  {
   "cell_type": "markdown",
   "id": "399f93ac",
   "metadata": {},
   "source": [
    "### Conclusion"
   ]
  },
  {
   "cell_type": "code",
   "execution_count": 38,
   "id": "c0279dbe",
   "metadata": {},
   "outputs": [
    {
     "name": "stdout",
     "output_type": "stream",
     "text": [
      "With 95.0% reliable, data do not presented as a normal distribution.\n"
     ]
    }
   ],
   "source": [
    "if value_test_anderson < critical_value_anderson[2]:\n",
    "    print(\"With \" + str(100 - p_value_anderson[2]) + \"% reliable, the data are presented as a normal distribution.\")\n",
    "else:\n",
    "    print(\"With \" + str(100 - p_value_anderson[2]) + \"% reliable, data do not presented as a normal distribution.\")"
   ]
  },
  {
   "cell_type": "markdown",
   "id": "5ccbc9c3",
   "metadata": {},
   "source": [
    "#  Test Kolmogorov-Smirnov"
   ]
  },
  {
   "cell_type": "code",
   "execution_count": 24,
   "id": "30bf1a2f",
   "metadata": {},
   "outputs": [],
   "source": [
    "#This test is recommended for samples with many values (n > 100)."
   ]
  },
  {
   "cell_type": "code",
   "execution_count": 26,
   "id": "9afdd2c3",
   "metadata": {},
   "outputs": [],
   "source": [
    "import numpy as np"
   ]
  },
  {
   "cell_type": "code",
   "execution_count": 25,
   "id": "16cc4353",
   "metadata": {},
   "outputs": [],
   "source": [
    "K = pd.read_csv('spreadsheetfour.csv')"
   ]
  },
  {
   "cell_type": "code",
   "execution_count": 27,
   "id": "63cf6ca5",
   "metadata": {},
   "outputs": [],
   "source": [
    "ks = np.array([K])"
   ]
  },
  {
   "cell_type": "code",
   "execution_count": 39,
   "id": "5e96520b",
   "metadata": {},
   "outputs": [
    {
     "name": "stdout",
     "output_type": "stream",
     "text": [
      "54.542\n",
      "26.64988247628871\n"
     ]
    }
   ],
   "source": [
    "average_ks = np.mean(ks)\n",
    "print(average_ks)\n",
    "standard_deviation_ks = np.std(ks-1)\n",
    "print(standard_deviation_ks)"
   ]
  },
  {
   "cell_type": "code",
   "execution_count": 40,
   "id": "330246ec",
   "metadata": {},
   "outputs": [
    {
     "name": "stdout",
     "output_type": "stream",
     "text": [
      "0.9559725525745327\n",
      "0.08805489485093454\n"
     ]
    }
   ],
   "source": [
    "test_value_ks, p_value_ks = stats.kstest(ks, cdf='norm', args=(average_ks, standard_deviation_ks), N=len(ks))\n",
    "print(test_value_ks)\n",
    "print(p_value_ks)"
   ]
  },
  {
   "cell_type": "markdown",
   "id": "fd7d61fe",
   "metadata": {},
   "source": [
    "### Conclusion"
   ]
  },
  {
   "cell_type": "code",
   "execution_count": 41,
   "id": "37290369",
   "metadata": {},
   "outputs": [
    {
     "name": "stdout",
     "output_type": "stream",
     "text": [
      "The test presented with 95% confidence that the data behaved like a normal distribution.\n"
     ]
    }
   ],
   "source": [
    "if p_value_ks > 0.05:\n",
    "    print(\"The test presented with 95% confidence that the data behaved like a normal distribution.\")\n",
    "else:\n",
    "    print(\"The test presented with 95% confidence that the data did not behave like a normal distribution.\")"
   ]
  },
  {
   "cell_type": "code",
   "execution_count": null,
   "id": "9f54dbb0",
   "metadata": {},
   "outputs": [],
   "source": []
  }
 ],
 "metadata": {
  "kernelspec": {
   "display_name": "Python 3 (ipykernel)",
   "language": "python",
   "name": "python3"
  },
  "language_info": {
   "codemirror_mode": {
    "name": "ipython",
    "version": 3
   },
   "file_extension": ".py",
   "mimetype": "text/x-python",
   "name": "python",
   "nbconvert_exporter": "python",
   "pygments_lexer": "ipython3",
   "version": "3.9.7"
  }
 },
 "nbformat": 4,
 "nbformat_minor": 5
}
